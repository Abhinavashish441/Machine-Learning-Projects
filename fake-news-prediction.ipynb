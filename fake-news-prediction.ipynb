{
 "cells": [
  {
   "cell_type": "code",
   "execution_count": 1,
   "id": "c48c13d8",
   "metadata": {
    "_cell_guid": "b1076dfc-b9ad-4769-8c92-a6c4dae69d19",
    "_uuid": "8f2839f25d086af736a60e9eeb907d3b93b6e0e5",
    "execution": {
     "iopub.execute_input": "2022-07-13T09:16:02.889795Z",
     "iopub.status.busy": "2022-07-13T09:16:02.888886Z",
     "iopub.status.idle": "2022-07-13T09:16:02.907626Z",
     "shell.execute_reply": "2022-07-13T09:16:02.906448Z"
    },
    "papermill": {
     "duration": 0.033488,
     "end_time": "2022-07-13T09:16:02.910379",
     "exception": false,
     "start_time": "2022-07-13T09:16:02.876891",
     "status": "completed"
    },
    "tags": []
   },
   "outputs": [
    {
     "name": "stdout",
     "output_type": "stream",
     "text": [
      "/kaggle/input/fake-news/submit.csv\n",
      "/kaggle/input/fake-news/train.csv\n",
      "/kaggle/input/fake-news/test.csv\n"
     ]
    }
   ],
   "source": [
    "# This Python 3 environment comes with many helpful analytics libraries installed\n",
    "# It is defined by the kaggle/python Docker image: https://github.com/kaggle/docker-python\n",
    "# For example, here's several helpful packages to load\n",
    "\n",
    "import numpy as np # linear algebra\n",
    "import pandas as pd # data processing, CSV file I/O (e.g. pd.read_csv)\n",
    "\n",
    "# Input data files are available in the read-only \"../input/\" directory\n",
    "# For example, running this (by clicking run or pressing Shift+Enter) will list all files under the input directory\n",
    "\n",
    "import os\n",
    "for dirname, _, filenames in os.walk('/kaggle/input'):\n",
    "    for filename in filenames:\n",
    "        print(os.path.join(dirname, filename))\n",
    "\n",
    "# You can write up to 20GB to the current directory (/kaggle/working/) that gets preserved as output when you create a version using \"Save & Run All\" \n",
    "# You can also write temporary files to /kaggle/temp/, but they won't be saved outside of the current session"
   ]
  },
  {
   "cell_type": "code",
   "execution_count": 2,
   "id": "b2b8bfb3",
   "metadata": {
    "execution": {
     "iopub.execute_input": "2022-07-13T09:16:02.930281Z",
     "iopub.status.busy": "2022-07-13T09:16:02.929624Z",
     "iopub.status.idle": "2022-07-13T09:16:04.727895Z",
     "shell.execute_reply": "2022-07-13T09:16:04.726700Z"
    },
    "papermill": {
     "duration": 1.811701,
     "end_time": "2022-07-13T09:16:04.731135",
     "exception": false,
     "start_time": "2022-07-13T09:16:02.919434",
     "status": "completed"
    },
    "tags": []
   },
   "outputs": [],
   "source": [
    "import numpy as np\n",
    "import pandas as pd\n",
    "import re\n",
    "from nltk.corpus import stopwords\n",
    "from nltk.stem.porter import PorterStemmer\n",
    "from sklearn.feature_extraction.text import TfidfVectorizer\n",
    "from sklearn.model_selection import train_test_split\n",
    "from sklearn.linear_model import LogisticRegression\n",
    "from sklearn.metrics import accuracy_score"
   ]
  },
  {
   "cell_type": "code",
   "execution_count": 3,
   "id": "f29389ee",
   "metadata": {
    "execution": {
     "iopub.execute_input": "2022-07-13T09:16:04.751801Z",
     "iopub.status.busy": "2022-07-13T09:16:04.751337Z",
     "iopub.status.idle": "2022-07-13T09:16:05.018024Z",
     "shell.execute_reply": "2022-07-13T09:16:05.016917Z"
    },
    "papermill": {
     "duration": 0.280162,
     "end_time": "2022-07-13T09:16:05.021014",
     "exception": false,
     "start_time": "2022-07-13T09:16:04.740852",
     "status": "completed"
    },
    "tags": []
   },
   "outputs": [
    {
     "name": "stdout",
     "output_type": "stream",
     "text": [
      "[nltk_data] Downloading package stopwords to /usr/share/nltk_data...\n",
      "[nltk_data]   Unzipping corpora/stopwords.zip.\n"
     ]
    },
    {
     "data": {
      "text/plain": [
       "True"
      ]
     },
     "execution_count": 3,
     "metadata": {},
     "output_type": "execute_result"
    }
   ],
   "source": [
    "import nltk\n",
    "nltk.download('stopwords')"
   ]
  },
  {
   "cell_type": "markdown",
   "id": "fe6cdddf",
   "metadata": {
    "papermill": {
     "duration": 0.008618,
     "end_time": "2022-07-13T09:16:05.038442",
     "exception": false,
     "start_time": "2022-07-13T09:16:05.029824",
     "status": "completed"
    },
    "tags": []
   },
   "source": [
    "**Code By Abhinav Ashish**"
   ]
  },
  {
   "cell_type": "code",
   "execution_count": 4,
   "id": "7b7b0321",
   "metadata": {
    "execution": {
     "iopub.execute_input": "2022-07-13T09:16:05.059218Z",
     "iopub.status.busy": "2022-07-13T09:16:05.058194Z",
     "iopub.status.idle": "2022-07-13T09:16:08.223407Z",
     "shell.execute_reply": "2022-07-13T09:16:08.222239Z"
    },
    "papermill": {
     "duration": 3.178353,
     "end_time": "2022-07-13T09:16:08.226269",
     "exception": false,
     "start_time": "2022-07-13T09:16:05.047916",
     "status": "completed"
    },
    "tags": []
   },
   "outputs": [],
   "source": [
    "news_dataset = pd.read_csv('../input/fake-news/train.csv')"
   ]
  },
  {
   "cell_type": "code",
   "execution_count": 5,
   "id": "a0f46027",
   "metadata": {
    "execution": {
     "iopub.execute_input": "2022-07-13T09:16:08.245849Z",
     "iopub.status.busy": "2022-07-13T09:16:08.245421Z",
     "iopub.status.idle": "2022-07-13T09:16:08.252883Z",
     "shell.execute_reply": "2022-07-13T09:16:08.251663Z"
    },
    "papermill": {
     "duration": 0.019665,
     "end_time": "2022-07-13T09:16:08.254970",
     "exception": false,
     "start_time": "2022-07-13T09:16:08.235305",
     "status": "completed"
    },
    "tags": []
   },
   "outputs": [
    {
     "data": {
      "text/plain": [
       "(20800, 5)"
      ]
     },
     "execution_count": 5,
     "metadata": {},
     "output_type": "execute_result"
    }
   ],
   "source": [
    "news_dataset.shape"
   ]
  },
  {
   "cell_type": "code",
   "execution_count": 6,
   "id": "3a98de36",
   "metadata": {
    "execution": {
     "iopub.execute_input": "2022-07-13T09:16:08.275558Z",
     "iopub.status.busy": "2022-07-13T09:16:08.274456Z",
     "iopub.status.idle": "2022-07-13T09:16:08.295229Z",
     "shell.execute_reply": "2022-07-13T09:16:08.294391Z"
    },
    "papermill": {
     "duration": 0.033327,
     "end_time": "2022-07-13T09:16:08.297342",
     "exception": false,
     "start_time": "2022-07-13T09:16:08.264015",
     "status": "completed"
    },
    "tags": []
   },
   "outputs": [
    {
     "data": {
      "text/html": [
       "<div>\n",
       "<style scoped>\n",
       "    .dataframe tbody tr th:only-of-type {\n",
       "        vertical-align: middle;\n",
       "    }\n",
       "\n",
       "    .dataframe tbody tr th {\n",
       "        vertical-align: top;\n",
       "    }\n",
       "\n",
       "    .dataframe thead th {\n",
       "        text-align: right;\n",
       "    }\n",
       "</style>\n",
       "<table border=\"1\" class=\"dataframe\">\n",
       "  <thead>\n",
       "    <tr style=\"text-align: right;\">\n",
       "      <th></th>\n",
       "      <th>id</th>\n",
       "      <th>title</th>\n",
       "      <th>author</th>\n",
       "      <th>text</th>\n",
       "      <th>label</th>\n",
       "    </tr>\n",
       "  </thead>\n",
       "  <tbody>\n",
       "    <tr>\n",
       "      <th>0</th>\n",
       "      <td>0</td>\n",
       "      <td>House Dem Aide: We Didn’t Even See Comey’s Let...</td>\n",
       "      <td>Darrell Lucus</td>\n",
       "      <td>House Dem Aide: We Didn’t Even See Comey’s Let...</td>\n",
       "      <td>1</td>\n",
       "    </tr>\n",
       "    <tr>\n",
       "      <th>1</th>\n",
       "      <td>1</td>\n",
       "      <td>FLYNN: Hillary Clinton, Big Woman on Campus - ...</td>\n",
       "      <td>Daniel J. Flynn</td>\n",
       "      <td>Ever get the feeling your life circles the rou...</td>\n",
       "      <td>0</td>\n",
       "    </tr>\n",
       "    <tr>\n",
       "      <th>2</th>\n",
       "      <td>2</td>\n",
       "      <td>Why the Truth Might Get You Fired</td>\n",
       "      <td>Consortiumnews.com</td>\n",
       "      <td>Why the Truth Might Get You Fired October 29, ...</td>\n",
       "      <td>1</td>\n",
       "    </tr>\n",
       "    <tr>\n",
       "      <th>3</th>\n",
       "      <td>3</td>\n",
       "      <td>15 Civilians Killed In Single US Airstrike Hav...</td>\n",
       "      <td>Jessica Purkiss</td>\n",
       "      <td>Videos 15 Civilians Killed In Single US Airstr...</td>\n",
       "      <td>1</td>\n",
       "    </tr>\n",
       "    <tr>\n",
       "      <th>4</th>\n",
       "      <td>4</td>\n",
       "      <td>Iranian woman jailed for fictional unpublished...</td>\n",
       "      <td>Howard Portnoy</td>\n",
       "      <td>Print \\nAn Iranian woman has been sentenced to...</td>\n",
       "      <td>1</td>\n",
       "    </tr>\n",
       "  </tbody>\n",
       "</table>\n",
       "</div>"
      ],
      "text/plain": [
       "   id                                              title              author  \\\n",
       "0   0  House Dem Aide: We Didn’t Even See Comey’s Let...       Darrell Lucus   \n",
       "1   1  FLYNN: Hillary Clinton, Big Woman on Campus - ...     Daniel J. Flynn   \n",
       "2   2                  Why the Truth Might Get You Fired  Consortiumnews.com   \n",
       "3   3  15 Civilians Killed In Single US Airstrike Hav...     Jessica Purkiss   \n",
       "4   4  Iranian woman jailed for fictional unpublished...      Howard Portnoy   \n",
       "\n",
       "                                                text  label  \n",
       "0  House Dem Aide: We Didn’t Even See Comey’s Let...      1  \n",
       "1  Ever get the feeling your life circles the rou...      0  \n",
       "2  Why the Truth Might Get You Fired October 29, ...      1  \n",
       "3  Videos 15 Civilians Killed In Single US Airstr...      1  \n",
       "4  Print \\nAn Iranian woman has been sentenced to...      1  "
      ]
     },
     "execution_count": 6,
     "metadata": {},
     "output_type": "execute_result"
    }
   ],
   "source": [
    "news_dataset.head()"
   ]
  },
  {
   "cell_type": "code",
   "execution_count": 7,
   "id": "df3d904c",
   "metadata": {
    "execution": {
     "iopub.execute_input": "2022-07-13T09:16:08.318250Z",
     "iopub.status.busy": "2022-07-13T09:16:08.317478Z",
     "iopub.status.idle": "2022-07-13T09:16:08.336934Z",
     "shell.execute_reply": "2022-07-13T09:16:08.335837Z"
    },
    "papermill": {
     "duration": 0.032613,
     "end_time": "2022-07-13T09:16:08.339453",
     "exception": false,
     "start_time": "2022-07-13T09:16:08.306840",
     "status": "completed"
    },
    "tags": []
   },
   "outputs": [
    {
     "data": {
      "text/plain": [
       "id           0\n",
       "title      558\n",
       "author    1957\n",
       "text        39\n",
       "label        0\n",
       "dtype: int64"
      ]
     },
     "execution_count": 7,
     "metadata": {},
     "output_type": "execute_result"
    }
   ],
   "source": [
    "news_dataset.isnull().sum()"
   ]
  },
  {
   "cell_type": "code",
   "execution_count": 8,
   "id": "57c66b1b",
   "metadata": {
    "execution": {
     "iopub.execute_input": "2022-07-13T09:16:08.360962Z",
     "iopub.status.busy": "2022-07-13T09:16:08.359707Z",
     "iopub.status.idle": "2022-07-13T09:16:08.377934Z",
     "shell.execute_reply": "2022-07-13T09:16:08.376776Z"
    },
    "papermill": {
     "duration": 0.031489,
     "end_time": "2022-07-13T09:16:08.380525",
     "exception": false,
     "start_time": "2022-07-13T09:16:08.349036",
     "status": "completed"
    },
    "tags": []
   },
   "outputs": [],
   "source": [
    "news_dataset = news_dataset.fillna('')"
   ]
  },
  {
   "cell_type": "code",
   "execution_count": 9,
   "id": "d6fff421",
   "metadata": {
    "execution": {
     "iopub.execute_input": "2022-07-13T09:16:08.402400Z",
     "iopub.status.busy": "2022-07-13T09:16:08.401663Z",
     "iopub.status.idle": "2022-07-13T09:16:08.421411Z",
     "shell.execute_reply": "2022-07-13T09:16:08.420446Z"
    },
    "papermill": {
     "duration": 0.033673,
     "end_time": "2022-07-13T09:16:08.424158",
     "exception": false,
     "start_time": "2022-07-13T09:16:08.390485",
     "status": "completed"
    },
    "tags": []
   },
   "outputs": [],
   "source": [
    "news_dataset['content'] = news_dataset['author']+' '+news_dataset['title']"
   ]
  },
  {
   "cell_type": "code",
   "execution_count": 10,
   "id": "1991e586",
   "metadata": {
    "execution": {
     "iopub.execute_input": "2022-07-13T09:16:08.445707Z",
     "iopub.status.busy": "2022-07-13T09:16:08.444806Z",
     "iopub.status.idle": "2022-07-13T09:16:08.455741Z",
     "shell.execute_reply": "2022-07-13T09:16:08.454929Z"
    },
    "papermill": {
     "duration": 0.023649,
     "end_time": "2022-07-13T09:16:08.457818",
     "exception": false,
     "start_time": "2022-07-13T09:16:08.434169",
     "status": "completed"
    },
    "tags": []
   },
   "outputs": [
    {
     "data": {
      "text/plain": [
       "0        Darrell Lucus House Dem Aide: We Didn’t Even S...\n",
       "1        Daniel J. Flynn FLYNN: Hillary Clinton, Big Wo...\n",
       "2        Consortiumnews.com Why the Truth Might Get You...\n",
       "3        Jessica Purkiss 15 Civilians Killed In Single ...\n",
       "4        Howard Portnoy Iranian woman jailed for fictio...\n",
       "                               ...                        \n",
       "20795    Jerome Hudson Rapper T.I.: Trump a ’Poster Chi...\n",
       "20796    Benjamin Hoffman N.F.L. Playoffs: Schedule, Ma...\n",
       "20797    Michael J. de la Merced and Rachel Abrams Macy...\n",
       "20798    Alex Ansary NATO, Russia To Hold Parallel Exer...\n",
       "20799              David Swanson What Keeps the F-35 Alive\n",
       "Name: content, Length: 20800, dtype: object"
      ]
     },
     "execution_count": 10,
     "metadata": {},
     "output_type": "execute_result"
    }
   ],
   "source": [
    "news_dataset.content"
   ]
  },
  {
   "cell_type": "code",
   "execution_count": 11,
   "id": "f4453d77",
   "metadata": {
    "execution": {
     "iopub.execute_input": "2022-07-13T09:16:08.478962Z",
     "iopub.status.busy": "2022-07-13T09:16:08.478556Z",
     "iopub.status.idle": "2022-07-13T09:16:08.499105Z",
     "shell.execute_reply": "2022-07-13T09:16:08.497910Z"
    },
    "papermill": {
     "duration": 0.034194,
     "end_time": "2022-07-13T09:16:08.501736",
     "exception": false,
     "start_time": "2022-07-13T09:16:08.467542",
     "status": "completed"
    },
    "tags": []
   },
   "outputs": [],
   "source": [
    "X = news_dataset.drop(columns='label',axis=1)\n",
    "y = news_dataset['label']"
   ]
  },
  {
   "cell_type": "code",
   "execution_count": null,
   "id": "13082479",
   "metadata": {
    "papermill": {
     "duration": 0.01004,
     "end_time": "2022-07-13T09:16:08.521619",
     "exception": false,
     "start_time": "2022-07-13T09:16:08.511579",
     "status": "completed"
    },
    "tags": []
   },
   "outputs": [],
   "source": []
  },
  {
   "cell_type": "markdown",
   "id": "dbca712c",
   "metadata": {
    "papermill": {
     "duration": 0.009163,
     "end_time": "2022-07-13T09:16:08.540385",
     "exception": false,
     "start_time": "2022-07-13T09:16:08.531222",
     "status": "completed"
    },
    "tags": []
   },
   "source": [
    "***Stemming***"
   ]
  },
  {
   "cell_type": "code",
   "execution_count": 12,
   "id": "bbf3f2de",
   "metadata": {
    "execution": {
     "iopub.execute_input": "2022-07-13T09:16:08.562076Z",
     "iopub.status.busy": "2022-07-13T09:16:08.560959Z",
     "iopub.status.idle": "2022-07-13T09:16:08.566664Z",
     "shell.execute_reply": "2022-07-13T09:16:08.565767Z"
    },
    "papermill": {
     "duration": 0.018854,
     "end_time": "2022-07-13T09:16:08.569028",
     "exception": false,
     "start_time": "2022-07-13T09:16:08.550174",
     "status": "completed"
    },
    "tags": []
   },
   "outputs": [],
   "source": [
    "port_stem = PorterStemmer()"
   ]
  },
  {
   "cell_type": "code",
   "execution_count": 13,
   "id": "62df7314",
   "metadata": {
    "execution": {
     "iopub.execute_input": "2022-07-13T09:16:08.590694Z",
     "iopub.status.busy": "2022-07-13T09:16:08.589423Z",
     "iopub.status.idle": "2022-07-13T09:16:08.595910Z",
     "shell.execute_reply": "2022-07-13T09:16:08.595147Z"
    },
    "papermill": {
     "duration": 0.019445,
     "end_time": "2022-07-13T09:16:08.598150",
     "exception": false,
     "start_time": "2022-07-13T09:16:08.578705",
     "status": "completed"
    },
    "tags": []
   },
   "outputs": [],
   "source": [
    "def stemming(content):\n",
    "    stemmed_content = re.sub('[^a-zA-Z]',' ',content)\n",
    "    stemmed_content = stemmed_content.lower()\n",
    "    stemmed_content = stemmed_content.split()\n",
    "    stemmed_content = [port_stem.stem(word) for word in stemmed_content if not word in stopwords.words('english')]\n",
    "    stemmed_content = ' '.join(stemmed_content)\n",
    "    return stemmed_content"
   ]
  },
  {
   "cell_type": "code",
   "execution_count": 14,
   "id": "3f73c5c6",
   "metadata": {
    "execution": {
     "iopub.execute_input": "2022-07-13T09:16:08.619517Z",
     "iopub.status.busy": "2022-07-13T09:16:08.618372Z",
     "iopub.status.idle": "2022-07-13T09:16:55.993451Z",
     "shell.execute_reply": "2022-07-13T09:16:55.992145Z"
    },
    "papermill": {
     "duration": 47.388739,
     "end_time": "2022-07-13T09:16:55.996442",
     "exception": false,
     "start_time": "2022-07-13T09:16:08.607703",
     "status": "completed"
    },
    "tags": []
   },
   "outputs": [],
   "source": [
    "news_dataset['content'] = news_dataset['content'].apply(stemming)"
   ]
  },
  {
   "cell_type": "code",
   "execution_count": 15,
   "id": "49a07931",
   "metadata": {
    "execution": {
     "iopub.execute_input": "2022-07-13T09:16:56.017455Z",
     "iopub.status.busy": "2022-07-13T09:16:56.017060Z",
     "iopub.status.idle": "2022-07-13T09:16:56.025381Z",
     "shell.execute_reply": "2022-07-13T09:16:56.024089Z"
    },
    "papermill": {
     "duration": 0.021891,
     "end_time": "2022-07-13T09:16:56.028093",
     "exception": false,
     "start_time": "2022-07-13T09:16:56.006202",
     "status": "completed"
    },
    "tags": []
   },
   "outputs": [
    {
     "name": "stdout",
     "output_type": "stream",
     "text": [
      "0        darrel lucu hous dem aid even see comey letter...\n",
      "1        daniel j flynn flynn hillari clinton big woman...\n",
      "2                   consortiumnew com truth might get fire\n",
      "3        jessica purkiss civilian kill singl us airstri...\n",
      "4        howard portnoy iranian woman jail fiction unpu...\n",
      "                               ...                        \n",
      "20795    jerom hudson rapper trump poster child white s...\n",
      "20796    benjamin hoffman n f l playoff schedul matchup...\n",
      "20797    michael j de la merc rachel abram maci said re...\n",
      "20798    alex ansari nato russia hold parallel exercis ...\n",
      "20799                            david swanson keep f aliv\n",
      "Name: content, Length: 20800, dtype: object\n"
     ]
    }
   ],
   "source": [
    "print(news_dataset['content'])"
   ]
  },
  {
   "cell_type": "code",
   "execution_count": 16,
   "id": "e327a8cf",
   "metadata": {
    "execution": {
     "iopub.execute_input": "2022-07-13T09:16:56.050424Z",
     "iopub.status.busy": "2022-07-13T09:16:56.049639Z",
     "iopub.status.idle": "2022-07-13T09:16:56.056118Z",
     "shell.execute_reply": "2022-07-13T09:16:56.055142Z"
    },
    "papermill": {
     "duration": 0.020365,
     "end_time": "2022-07-13T09:16:56.058403",
     "exception": false,
     "start_time": "2022-07-13T09:16:56.038038",
     "status": "completed"
    },
    "tags": []
   },
   "outputs": [],
   "source": [
    "X = news_dataset['content'].values\n",
    "Y = news_dataset['label'].values"
   ]
  },
  {
   "cell_type": "code",
   "execution_count": 17,
   "id": "87f67e53",
   "metadata": {
    "execution": {
     "iopub.execute_input": "2022-07-13T09:16:56.079788Z",
     "iopub.status.busy": "2022-07-13T09:16:56.079027Z",
     "iopub.status.idle": "2022-07-13T09:16:56.838830Z",
     "shell.execute_reply": "2022-07-13T09:16:56.837525Z"
    },
    "papermill": {
     "duration": 0.773706,
     "end_time": "2022-07-13T09:16:56.841791",
     "exception": false,
     "start_time": "2022-07-13T09:16:56.068085",
     "status": "completed"
    },
    "tags": []
   },
   "outputs": [],
   "source": [
    "vectorizer = TfidfVectorizer()\n",
    "vectorizer.fit(X)\n",
    "\n",
    "X = vectorizer.transform(X)"
   ]
  },
  {
   "cell_type": "code",
   "execution_count": 18,
   "id": "8a39c90c",
   "metadata": {
    "execution": {
     "iopub.execute_input": "2022-07-13T09:16:56.865517Z",
     "iopub.status.busy": "2022-07-13T09:16:56.864802Z",
     "iopub.status.idle": "2022-07-13T09:16:56.872336Z",
     "shell.execute_reply": "2022-07-13T09:16:56.870924Z"
    },
    "papermill": {
     "duration": 0.021308,
     "end_time": "2022-07-13T09:16:56.874805",
     "exception": false,
     "start_time": "2022-07-13T09:16:56.853497",
     "status": "completed"
    },
    "tags": []
   },
   "outputs": [
    {
     "data": {
      "text/plain": [
       "<20800x17128 sparse matrix of type '<class 'numpy.float64'>'\n",
       "\twith 210687 stored elements in Compressed Sparse Row format>"
      ]
     },
     "execution_count": 18,
     "metadata": {},
     "output_type": "execute_result"
    }
   ],
   "source": [
    "X"
   ]
  },
  {
   "cell_type": "code",
   "execution_count": 19,
   "id": "915ee044",
   "metadata": {
    "execution": {
     "iopub.execute_input": "2022-07-13T09:16:56.897516Z",
     "iopub.status.busy": "2022-07-13T09:16:56.896778Z",
     "iopub.status.idle": "2022-07-13T09:16:56.906674Z",
     "shell.execute_reply": "2022-07-13T09:16:56.905447Z"
    },
    "papermill": {
     "duration": 0.024563,
     "end_time": "2022-07-13T09:16:56.909425",
     "exception": false,
     "start_time": "2022-07-13T09:16:56.884862",
     "status": "completed"
    },
    "tags": []
   },
   "outputs": [
    {
     "name": "stdout",
     "output_type": "stream",
     "text": [
      "  (0, 15686)\t0.28485063562728646\n",
      "  (0, 13473)\t0.2565896679337957\n",
      "  (0, 8909)\t0.3635963806326075\n",
      "  (0, 8630)\t0.29212514087043684\n",
      "  (0, 7692)\t0.24785219520671603\n",
      "  (0, 7005)\t0.21874169089359144\n",
      "  (0, 4973)\t0.233316966909351\n",
      "  (0, 3792)\t0.2705332480845492\n",
      "  (0, 3600)\t0.3598939188262559\n",
      "  (0, 2959)\t0.2468450128533713\n",
      "  (0, 2483)\t0.3676519686797209\n",
      "  (0, 267)\t0.27010124977708766\n",
      "  (1, 16799)\t0.30071745655510157\n",
      "  (1, 6816)\t0.1904660198296849\n",
      "  (1, 5503)\t0.7143299355715573\n",
      "  (1, 3568)\t0.26373768806048464\n",
      "  (1, 2813)\t0.19094574062359204\n",
      "  (1, 2223)\t0.3827320386859759\n",
      "  (1, 1894)\t0.15521974226349364\n",
      "  (1, 1497)\t0.2939891562094648\n",
      "  (2, 15611)\t0.41544962664721613\n",
      "  (2, 9620)\t0.49351492943649944\n",
      "  (2, 5968)\t0.3474613386728292\n",
      "  (2, 5389)\t0.3866530551182615\n",
      "  (2, 3103)\t0.46097489583229645\n",
      "  :\t:\n",
      "  (20797, 13122)\t0.2482526352197606\n",
      "  (20797, 12344)\t0.27263457663336677\n",
      "  (20797, 12138)\t0.24778257724396507\n",
      "  (20797, 10306)\t0.08038079000566466\n",
      "  (20797, 9588)\t0.174553480255222\n",
      "  (20797, 9518)\t0.2954204003420313\n",
      "  (20797, 8988)\t0.36160868928090795\n",
      "  (20797, 8364)\t0.22322585870464118\n",
      "  (20797, 7042)\t0.21799048897828688\n",
      "  (20797, 3643)\t0.21155500613623743\n",
      "  (20797, 1287)\t0.33538056804139865\n",
      "  (20797, 699)\t0.30685846079762347\n",
      "  (20797, 43)\t0.29710241860700626\n",
      "  (20798, 13046)\t0.22363267488270608\n",
      "  (20798, 11052)\t0.4460515589182236\n",
      "  (20798, 10177)\t0.3192496370187028\n",
      "  (20798, 6889)\t0.32496285694299426\n",
      "  (20798, 5032)\t0.4083701450239529\n",
      "  (20798, 1125)\t0.4460515589182236\n",
      "  (20798, 588)\t0.3112141524638974\n",
      "  (20798, 350)\t0.28446937819072576\n",
      "  (20799, 14852)\t0.5677577267055112\n",
      "  (20799, 8036)\t0.45983893273780013\n",
      "  (20799, 3623)\t0.37927626273066584\n",
      "  (20799, 377)\t0.5677577267055112\n"
     ]
    }
   ],
   "source": [
    "print(X)"
   ]
  },
  {
   "cell_type": "code",
   "execution_count": 20,
   "id": "5bae95e7",
   "metadata": {
    "execution": {
     "iopub.execute_input": "2022-07-13T09:16:56.932886Z",
     "iopub.status.busy": "2022-07-13T09:16:56.932107Z",
     "iopub.status.idle": "2022-07-13T09:16:56.954187Z",
     "shell.execute_reply": "2022-07-13T09:16:56.952772Z"
    },
    "papermill": {
     "duration": 0.037338,
     "end_time": "2022-07-13T09:16:56.957706",
     "exception": false,
     "start_time": "2022-07-13T09:16:56.920368",
     "status": "completed"
    },
    "tags": []
   },
   "outputs": [],
   "source": [
    "X_train, X_test, Y_train, Y_test = train_test_split(X, Y, test_size = 0.2, stratify=Y, random_state=2)"
   ]
  },
  {
   "cell_type": "code",
   "execution_count": 21,
   "id": "96c91e78",
   "metadata": {
    "execution": {
     "iopub.execute_input": "2022-07-13T09:16:56.980798Z",
     "iopub.status.busy": "2022-07-13T09:16:56.979656Z",
     "iopub.status.idle": "2022-07-13T09:16:56.985024Z",
     "shell.execute_reply": "2022-07-13T09:16:56.983871Z"
    },
    "papermill": {
     "duration": 0.01942,
     "end_time": "2022-07-13T09:16:56.987290",
     "exception": false,
     "start_time": "2022-07-13T09:16:56.967870",
     "status": "completed"
    },
    "tags": []
   },
   "outputs": [],
   "source": [
    "model = LogisticRegression()"
   ]
  },
  {
   "cell_type": "code",
   "execution_count": 22,
   "id": "2fdca3dc",
   "metadata": {
    "execution": {
     "iopub.execute_input": "2022-07-13T09:16:57.009407Z",
     "iopub.status.busy": "2022-07-13T09:16:57.009005Z",
     "iopub.status.idle": "2022-07-13T09:16:57.817478Z",
     "shell.execute_reply": "2022-07-13T09:16:57.816156Z"
    },
    "papermill": {
     "duration": 0.823898,
     "end_time": "2022-07-13T09:16:57.821294",
     "exception": false,
     "start_time": "2022-07-13T09:16:56.997396",
     "status": "completed"
    },
    "tags": []
   },
   "outputs": [
    {
     "data": {
      "text/plain": [
       "LogisticRegression()"
      ]
     },
     "execution_count": 22,
     "metadata": {},
     "output_type": "execute_result"
    }
   ],
   "source": [
    "model.fit(X_train, Y_train)"
   ]
  },
  {
   "cell_type": "code",
   "execution_count": 23,
   "id": "93553033",
   "metadata": {
    "execution": {
     "iopub.execute_input": "2022-07-13T09:16:57.897938Z",
     "iopub.status.busy": "2022-07-13T09:16:57.897346Z",
     "iopub.status.idle": "2022-07-13T09:16:57.909006Z",
     "shell.execute_reply": "2022-07-13T09:16:57.907775Z"
    },
    "papermill": {
     "duration": 0.051799,
     "end_time": "2022-07-13T09:16:57.912396",
     "exception": false,
     "start_time": "2022-07-13T09:16:57.860597",
     "status": "completed"
    },
    "tags": []
   },
   "outputs": [],
   "source": [
    "# accuracy score on the training data\n",
    "X_train_prediction = model.predict(X_train)\n",
    "training_data_accuracy = accuracy_score(X_train_prediction, Y_train)"
   ]
  },
  {
   "cell_type": "code",
   "execution_count": 24,
   "id": "b91a4d9e",
   "metadata": {
    "execution": {
     "iopub.execute_input": "2022-07-13T09:16:57.937264Z",
     "iopub.status.busy": "2022-07-13T09:16:57.936622Z",
     "iopub.status.idle": "2022-07-13T09:16:57.942193Z",
     "shell.execute_reply": "2022-07-13T09:16:57.940771Z"
    },
    "papermill": {
     "duration": 0.020206,
     "end_time": "2022-07-13T09:16:57.945230",
     "exception": false,
     "start_time": "2022-07-13T09:16:57.925024",
     "status": "completed"
    },
    "tags": []
   },
   "outputs": [
    {
     "name": "stdout",
     "output_type": "stream",
     "text": [
      "Accuracy score of the training data :  0.9865985576923076\n"
     ]
    }
   ],
   "source": [
    "print('Accuracy score of the training data : ', training_data_accuracy)"
   ]
  },
  {
   "cell_type": "code",
   "execution_count": 25,
   "id": "82efcccc",
   "metadata": {
    "execution": {
     "iopub.execute_input": "2022-07-13T09:16:57.968465Z",
     "iopub.status.busy": "2022-07-13T09:16:57.968045Z",
     "iopub.status.idle": "2022-07-13T09:16:57.975219Z",
     "shell.execute_reply": "2022-07-13T09:16:57.973785Z"
    },
    "papermill": {
     "duration": 0.022255,
     "end_time": "2022-07-13T09:16:57.977860",
     "exception": false,
     "start_time": "2022-07-13T09:16:57.955605",
     "status": "completed"
    },
    "tags": []
   },
   "outputs": [],
   "source": [
    "# accuracy score on the test data\n",
    "X_test_prediction = model.predict(X_test)\n",
    "test_data_accuracy = accuracy_score(X_test_prediction, Y_test)"
   ]
  },
  {
   "cell_type": "code",
   "execution_count": 26,
   "id": "45fdf46b",
   "metadata": {
    "execution": {
     "iopub.execute_input": "2022-07-13T09:16:58.001147Z",
     "iopub.status.busy": "2022-07-13T09:16:57.999898Z",
     "iopub.status.idle": "2022-07-13T09:16:58.006440Z",
     "shell.execute_reply": "2022-07-13T09:16:58.005109Z"
    },
    "papermill": {
     "duration": 0.021713,
     "end_time": "2022-07-13T09:16:58.009652",
     "exception": false,
     "start_time": "2022-07-13T09:16:57.987939",
     "status": "completed"
    },
    "tags": []
   },
   "outputs": [
    {
     "name": "stdout",
     "output_type": "stream",
     "text": [
      "Accuracy score of the test data :  0.9790865384615385\n"
     ]
    }
   ],
   "source": [
    "print('Accuracy score of the test data : ', test_data_accuracy)"
   ]
  },
  {
   "cell_type": "code",
   "execution_count": 27,
   "id": "ff3fac22",
   "metadata": {
    "execution": {
     "iopub.execute_input": "2022-07-13T09:16:58.031856Z",
     "iopub.status.busy": "2022-07-13T09:16:58.031448Z",
     "iopub.status.idle": "2022-07-13T09:16:58.039508Z",
     "shell.execute_reply": "2022-07-13T09:16:58.038111Z"
    },
    "papermill": {
     "duration": 0.022644,
     "end_time": "2022-07-13T09:16:58.042766",
     "exception": false,
     "start_time": "2022-07-13T09:16:58.020122",
     "status": "completed"
    },
    "tags": []
   },
   "outputs": [
    {
     "name": "stdout",
     "output_type": "stream",
     "text": [
      "[0]\n",
      "The news is Real\n"
     ]
    }
   ],
   "source": [
    "X_new = X_test[3]\n",
    "\n",
    "prediction = model.predict(X_new)\n",
    "print(prediction)\n",
    "\n",
    "if (prediction[0]==0):\n",
    "  print('The news is Real')\n",
    "else:\n",
    "  print('The news is Fake')"
   ]
  },
  {
   "cell_type": "markdown",
   "id": "56f7800b",
   "metadata": {
    "papermill": {
     "duration": 0.010048,
     "end_time": "2022-07-13T09:16:58.064233",
     "exception": false,
     "start_time": "2022-07-13T09:16:58.054185",
     "status": "completed"
    },
    "tags": []
   },
   "source": [
    "My Predictor"
   ]
  },
  {
   "cell_type": "code",
   "execution_count": null,
   "id": "66286630",
   "metadata": {
    "papermill": {
     "duration": 0.009776,
     "end_time": "2022-07-13T09:16:58.084080",
     "exception": false,
     "start_time": "2022-07-13T09:16:58.074304",
     "status": "completed"
    },
    "tags": []
   },
   "outputs": [],
   "source": []
  }
 ],
 "metadata": {
  "kernelspec": {
   "display_name": "Python 3",
   "language": "python",
   "name": "python3"
  },
  "language_info": {
   "codemirror_mode": {
    "name": "ipython",
    "version": 3
   },
   "file_extension": ".py",
   "mimetype": "text/x-python",
   "name": "python",
   "nbconvert_exporter": "python",
   "pygments_lexer": "ipython3",
   "version": "3.7.12"
  },
  "papermill": {
   "default_parameters": {},
   "duration": 66.725724,
   "end_time": "2022-07-13T09:16:59.117770",
   "environment_variables": {},
   "exception": null,
   "input_path": "__notebook__.ipynb",
   "output_path": "__notebook__.ipynb",
   "parameters": {},
   "start_time": "2022-07-13T09:15:52.392046",
   "version": "2.3.4"
  }
 },
 "nbformat": 4,
 "nbformat_minor": 5
}
