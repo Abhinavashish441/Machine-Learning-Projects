{
 "cells": [
  {
   "cell_type": "code",
   "execution_count": 1,
   "id": "6e16f5dc",
   "metadata": {
    "_cell_guid": "b1076dfc-b9ad-4769-8c92-a6c4dae69d19",
    "_uuid": "8f2839f25d086af736a60e9eeb907d3b93b6e0e5",
    "execution": {
     "iopub.execute_input": "2022-07-13T16:26:03.251047Z",
     "iopub.status.busy": "2022-07-13T16:26:03.250385Z",
     "iopub.status.idle": "2022-07-13T16:26:03.271479Z",
     "shell.execute_reply": "2022-07-13T16:26:03.270346Z"
    },
    "papermill": {
     "duration": 0.033693,
     "end_time": "2022-07-13T16:26:03.274462",
     "exception": false,
     "start_time": "2022-07-13T16:26:03.240769",
     "status": "completed"
    },
    "tags": []
   },
   "outputs": [
    {
     "name": "stdout",
     "output_type": "stream",
     "text": [
      "/kaggle/input/red-wine-quality-cortez-et-al-2009/winequality-red.csv\n"
     ]
    }
   ],
   "source": [
    "# This Python 3 environment comes with many helpful analytics libraries installed\n",
    "# It is defined by the kaggle/python Docker image: https://github.com/kaggle/docker-python\n",
    "# For example, here's several helpful packages to load\n",
    "\n",
    "import numpy as np # linear algebra\n",
    "import pandas as pd # data processing, CSV file I/O (e.g. pd.read_csv)\n",
    "\n",
    "# Input data files are available in the read-only \"../input/\" directory\n",
    "# For example, running this (by clicking run or pressing Shift+Enter) will list all files under the input directory\n",
    "\n",
    "import os\n",
    "for dirname, _, filenames in os.walk('/kaggle/input'):\n",
    "    for filename in filenames:\n",
    "        print(os.path.join(dirname, filename))\n",
    "\n",
    "# You can write up to 20GB to the current directory (/kaggle/working/) that gets preserved as output when you create a version using \"Save & Run All\" \n",
    "# You can also write temporary files to /kaggle/temp/, but they won't be saved outside of the current session"
   ]
  },
  {
   "cell_type": "code",
   "execution_count": 2,
   "id": "30e6c719",
   "metadata": {
    "execution": {
     "iopub.execute_input": "2022-07-13T16:26:03.290752Z",
     "iopub.status.busy": "2022-07-13T16:26:03.290023Z",
     "iopub.status.idle": "2022-07-13T16:26:05.033166Z",
     "shell.execute_reply": "2022-07-13T16:26:05.031804Z"
    },
    "papermill": {
     "duration": 1.754719,
     "end_time": "2022-07-13T16:26:05.036242",
     "exception": false,
     "start_time": "2022-07-13T16:26:03.281523",
     "status": "completed"
    },
    "tags": []
   },
   "outputs": [],
   "source": [
    "import numpy as np\n",
    "import pandas as pd\n",
    "import matplotlib.pyplot as plt\n",
    "import seaborn as sns\n",
    "from sklearn.model_selection import train_test_split\n",
    "from sklearn.ensemble import RandomForestClassifier\n",
    "from sklearn.metrics import accuracy_score"
   ]
  },
  {
   "cell_type": "code",
   "execution_count": 3,
   "id": "e86c32bb",
   "metadata": {
    "execution": {
     "iopub.execute_input": "2022-07-13T16:26:05.050592Z",
     "iopub.status.busy": "2022-07-13T16:26:05.049838Z",
     "iopub.status.idle": "2022-07-13T16:26:05.071070Z",
     "shell.execute_reply": "2022-07-13T16:26:05.069559Z"
    },
    "papermill": {
     "duration": 0.031694,
     "end_time": "2022-07-13T16:26:05.074071",
     "exception": false,
     "start_time": "2022-07-13T16:26:05.042377",
     "status": "completed"
    },
    "tags": []
   },
   "outputs": [],
   "source": [
    "wine_dataset = pd.read_csv('../input/red-wine-quality-cortez-et-al-2009/winequality-red.csv')"
   ]
  },
  {
   "cell_type": "code",
   "execution_count": 4,
   "id": "05a7e0ae",
   "metadata": {
    "execution": {
     "iopub.execute_input": "2022-07-13T16:26:05.088403Z",
     "iopub.status.busy": "2022-07-13T16:26:05.087991Z",
     "iopub.status.idle": "2022-07-13T16:26:05.096603Z",
     "shell.execute_reply": "2022-07-13T16:26:05.095727Z"
    },
    "papermill": {
     "duration": 0.018362,
     "end_time": "2022-07-13T16:26:05.098750",
     "exception": false,
     "start_time": "2022-07-13T16:26:05.080388",
     "status": "completed"
    },
    "tags": []
   },
   "outputs": [
    {
     "data": {
      "text/plain": [
       "(1599, 12)"
      ]
     },
     "execution_count": 4,
     "metadata": {},
     "output_type": "execute_result"
    }
   ],
   "source": [
    "wine_dataset.shape"
   ]
  },
  {
   "cell_type": "code",
   "execution_count": 5,
   "id": "f9c5a463",
   "metadata": {
    "execution": {
     "iopub.execute_input": "2022-07-13T16:26:05.113377Z",
     "iopub.status.busy": "2022-07-13T16:26:05.112694Z",
     "iopub.status.idle": "2022-07-13T16:26:05.145365Z",
     "shell.execute_reply": "2022-07-13T16:26:05.144081Z"
    },
    "papermill": {
     "duration": 0.042933,
     "end_time": "2022-07-13T16:26:05.147973",
     "exception": false,
     "start_time": "2022-07-13T16:26:05.105040",
     "status": "completed"
    },
    "tags": []
   },
   "outputs": [
    {
     "data": {
      "text/html": [
       "<div>\n",
       "<style scoped>\n",
       "    .dataframe tbody tr th:only-of-type {\n",
       "        vertical-align: middle;\n",
       "    }\n",
       "\n",
       "    .dataframe tbody tr th {\n",
       "        vertical-align: top;\n",
       "    }\n",
       "\n",
       "    .dataframe thead th {\n",
       "        text-align: right;\n",
       "    }\n",
       "</style>\n",
       "<table border=\"1\" class=\"dataframe\">\n",
       "  <thead>\n",
       "    <tr style=\"text-align: right;\">\n",
       "      <th></th>\n",
       "      <th>fixed acidity</th>\n",
       "      <th>volatile acidity</th>\n",
       "      <th>citric acid</th>\n",
       "      <th>residual sugar</th>\n",
       "      <th>chlorides</th>\n",
       "      <th>free sulfur dioxide</th>\n",
       "      <th>total sulfur dioxide</th>\n",
       "      <th>density</th>\n",
       "      <th>pH</th>\n",
       "      <th>sulphates</th>\n",
       "      <th>alcohol</th>\n",
       "      <th>quality</th>\n",
       "    </tr>\n",
       "  </thead>\n",
       "  <tbody>\n",
       "    <tr>\n",
       "      <th>0</th>\n",
       "      <td>7.4</td>\n",
       "      <td>0.70</td>\n",
       "      <td>0.00</td>\n",
       "      <td>1.9</td>\n",
       "      <td>0.076</td>\n",
       "      <td>11.0</td>\n",
       "      <td>34.0</td>\n",
       "      <td>0.9978</td>\n",
       "      <td>3.51</td>\n",
       "      <td>0.56</td>\n",
       "      <td>9.4</td>\n",
       "      <td>5</td>\n",
       "    </tr>\n",
       "    <tr>\n",
       "      <th>1</th>\n",
       "      <td>7.8</td>\n",
       "      <td>0.88</td>\n",
       "      <td>0.00</td>\n",
       "      <td>2.6</td>\n",
       "      <td>0.098</td>\n",
       "      <td>25.0</td>\n",
       "      <td>67.0</td>\n",
       "      <td>0.9968</td>\n",
       "      <td>3.20</td>\n",
       "      <td>0.68</td>\n",
       "      <td>9.8</td>\n",
       "      <td>5</td>\n",
       "    </tr>\n",
       "    <tr>\n",
       "      <th>2</th>\n",
       "      <td>7.8</td>\n",
       "      <td>0.76</td>\n",
       "      <td>0.04</td>\n",
       "      <td>2.3</td>\n",
       "      <td>0.092</td>\n",
       "      <td>15.0</td>\n",
       "      <td>54.0</td>\n",
       "      <td>0.9970</td>\n",
       "      <td>3.26</td>\n",
       "      <td>0.65</td>\n",
       "      <td>9.8</td>\n",
       "      <td>5</td>\n",
       "    </tr>\n",
       "    <tr>\n",
       "      <th>3</th>\n",
       "      <td>11.2</td>\n",
       "      <td>0.28</td>\n",
       "      <td>0.56</td>\n",
       "      <td>1.9</td>\n",
       "      <td>0.075</td>\n",
       "      <td>17.0</td>\n",
       "      <td>60.0</td>\n",
       "      <td>0.9980</td>\n",
       "      <td>3.16</td>\n",
       "      <td>0.58</td>\n",
       "      <td>9.8</td>\n",
       "      <td>6</td>\n",
       "    </tr>\n",
       "    <tr>\n",
       "      <th>4</th>\n",
       "      <td>7.4</td>\n",
       "      <td>0.70</td>\n",
       "      <td>0.00</td>\n",
       "      <td>1.9</td>\n",
       "      <td>0.076</td>\n",
       "      <td>11.0</td>\n",
       "      <td>34.0</td>\n",
       "      <td>0.9978</td>\n",
       "      <td>3.51</td>\n",
       "      <td>0.56</td>\n",
       "      <td>9.4</td>\n",
       "      <td>5</td>\n",
       "    </tr>\n",
       "  </tbody>\n",
       "</table>\n",
       "</div>"
      ],
      "text/plain": [
       "   fixed acidity  volatile acidity  citric acid  residual sugar  chlorides  \\\n",
       "0            7.4              0.70         0.00             1.9      0.076   \n",
       "1            7.8              0.88         0.00             2.6      0.098   \n",
       "2            7.8              0.76         0.04             2.3      0.092   \n",
       "3           11.2              0.28         0.56             1.9      0.075   \n",
       "4            7.4              0.70         0.00             1.9      0.076   \n",
       "\n",
       "   free sulfur dioxide  total sulfur dioxide  density    pH  sulphates  \\\n",
       "0                 11.0                  34.0   0.9978  3.51       0.56   \n",
       "1                 25.0                  67.0   0.9968  3.20       0.68   \n",
       "2                 15.0                  54.0   0.9970  3.26       0.65   \n",
       "3                 17.0                  60.0   0.9980  3.16       0.58   \n",
       "4                 11.0                  34.0   0.9978  3.51       0.56   \n",
       "\n",
       "   alcohol  quality  \n",
       "0      9.4        5  \n",
       "1      9.8        5  \n",
       "2      9.8        5  \n",
       "3      9.8        6  \n",
       "4      9.4        5  "
      ]
     },
     "execution_count": 5,
     "metadata": {},
     "output_type": "execute_result"
    }
   ],
   "source": [
    "wine_dataset.head()"
   ]
  },
  {
   "cell_type": "code",
   "execution_count": 6,
   "id": "8e9f71ca",
   "metadata": {
    "execution": {
     "iopub.execute_input": "2022-07-13T16:26:05.163959Z",
     "iopub.status.busy": "2022-07-13T16:26:05.163209Z",
     "iopub.status.idle": "2022-07-13T16:26:05.172699Z",
     "shell.execute_reply": "2022-07-13T16:26:05.171779Z"
    },
    "papermill": {
     "duration": 0.020151,
     "end_time": "2022-07-13T16:26:05.174876",
     "exception": false,
     "start_time": "2022-07-13T16:26:05.154725",
     "status": "completed"
    },
    "tags": []
   },
   "outputs": [
    {
     "data": {
      "text/plain": [
       "fixed acidity           0\n",
       "volatile acidity        0\n",
       "citric acid             0\n",
       "residual sugar          0\n",
       "chlorides               0\n",
       "free sulfur dioxide     0\n",
       "total sulfur dioxide    0\n",
       "density                 0\n",
       "pH                      0\n",
       "sulphates               0\n",
       "alcohol                 0\n",
       "quality                 0\n",
       "dtype: int64"
      ]
     },
     "execution_count": 6,
     "metadata": {},
     "output_type": "execute_result"
    }
   ],
   "source": [
    "wine_dataset.isnull().sum()"
   ]
  },
  {
   "cell_type": "code",
   "execution_count": 7,
   "id": "40a634e7",
   "metadata": {
    "execution": {
     "iopub.execute_input": "2022-07-13T16:26:05.191027Z",
     "iopub.status.busy": "2022-07-13T16:26:05.190362Z",
     "iopub.status.idle": "2022-07-13T16:26:05.252675Z",
     "shell.execute_reply": "2022-07-13T16:26:05.251414Z"
    },
    "papermill": {
     "duration": 0.073568,
     "end_time": "2022-07-13T16:26:05.255505",
     "exception": false,
     "start_time": "2022-07-13T16:26:05.181937",
     "status": "completed"
    },
    "tags": []
   },
   "outputs": [
    {
     "data": {
      "text/html": [
       "<div>\n",
       "<style scoped>\n",
       "    .dataframe tbody tr th:only-of-type {\n",
       "        vertical-align: middle;\n",
       "    }\n",
       "\n",
       "    .dataframe tbody tr th {\n",
       "        vertical-align: top;\n",
       "    }\n",
       "\n",
       "    .dataframe thead th {\n",
       "        text-align: right;\n",
       "    }\n",
       "</style>\n",
       "<table border=\"1\" class=\"dataframe\">\n",
       "  <thead>\n",
       "    <tr style=\"text-align: right;\">\n",
       "      <th></th>\n",
       "      <th>fixed acidity</th>\n",
       "      <th>volatile acidity</th>\n",
       "      <th>citric acid</th>\n",
       "      <th>residual sugar</th>\n",
       "      <th>chlorides</th>\n",
       "      <th>free sulfur dioxide</th>\n",
       "      <th>total sulfur dioxide</th>\n",
       "      <th>density</th>\n",
       "      <th>pH</th>\n",
       "      <th>sulphates</th>\n",
       "      <th>alcohol</th>\n",
       "      <th>quality</th>\n",
       "    </tr>\n",
       "  </thead>\n",
       "  <tbody>\n",
       "    <tr>\n",
       "      <th>count</th>\n",
       "      <td>1599.000000</td>\n",
       "      <td>1599.000000</td>\n",
       "      <td>1599.000000</td>\n",
       "      <td>1599.000000</td>\n",
       "      <td>1599.000000</td>\n",
       "      <td>1599.000000</td>\n",
       "      <td>1599.000000</td>\n",
       "      <td>1599.000000</td>\n",
       "      <td>1599.000000</td>\n",
       "      <td>1599.000000</td>\n",
       "      <td>1599.000000</td>\n",
       "      <td>1599.000000</td>\n",
       "    </tr>\n",
       "    <tr>\n",
       "      <th>mean</th>\n",
       "      <td>8.319637</td>\n",
       "      <td>0.527821</td>\n",
       "      <td>0.270976</td>\n",
       "      <td>2.538806</td>\n",
       "      <td>0.087467</td>\n",
       "      <td>15.874922</td>\n",
       "      <td>46.467792</td>\n",
       "      <td>0.996747</td>\n",
       "      <td>3.311113</td>\n",
       "      <td>0.658149</td>\n",
       "      <td>10.422983</td>\n",
       "      <td>5.636023</td>\n",
       "    </tr>\n",
       "    <tr>\n",
       "      <th>std</th>\n",
       "      <td>1.741096</td>\n",
       "      <td>0.179060</td>\n",
       "      <td>0.194801</td>\n",
       "      <td>1.409928</td>\n",
       "      <td>0.047065</td>\n",
       "      <td>10.460157</td>\n",
       "      <td>32.895324</td>\n",
       "      <td>0.001887</td>\n",
       "      <td>0.154386</td>\n",
       "      <td>0.169507</td>\n",
       "      <td>1.065668</td>\n",
       "      <td>0.807569</td>\n",
       "    </tr>\n",
       "    <tr>\n",
       "      <th>min</th>\n",
       "      <td>4.600000</td>\n",
       "      <td>0.120000</td>\n",
       "      <td>0.000000</td>\n",
       "      <td>0.900000</td>\n",
       "      <td>0.012000</td>\n",
       "      <td>1.000000</td>\n",
       "      <td>6.000000</td>\n",
       "      <td>0.990070</td>\n",
       "      <td>2.740000</td>\n",
       "      <td>0.330000</td>\n",
       "      <td>8.400000</td>\n",
       "      <td>3.000000</td>\n",
       "    </tr>\n",
       "    <tr>\n",
       "      <th>25%</th>\n",
       "      <td>7.100000</td>\n",
       "      <td>0.390000</td>\n",
       "      <td>0.090000</td>\n",
       "      <td>1.900000</td>\n",
       "      <td>0.070000</td>\n",
       "      <td>7.000000</td>\n",
       "      <td>22.000000</td>\n",
       "      <td>0.995600</td>\n",
       "      <td>3.210000</td>\n",
       "      <td>0.550000</td>\n",
       "      <td>9.500000</td>\n",
       "      <td>5.000000</td>\n",
       "    </tr>\n",
       "    <tr>\n",
       "      <th>50%</th>\n",
       "      <td>7.900000</td>\n",
       "      <td>0.520000</td>\n",
       "      <td>0.260000</td>\n",
       "      <td>2.200000</td>\n",
       "      <td>0.079000</td>\n",
       "      <td>14.000000</td>\n",
       "      <td>38.000000</td>\n",
       "      <td>0.996750</td>\n",
       "      <td>3.310000</td>\n",
       "      <td>0.620000</td>\n",
       "      <td>10.200000</td>\n",
       "      <td>6.000000</td>\n",
       "    </tr>\n",
       "    <tr>\n",
       "      <th>75%</th>\n",
       "      <td>9.200000</td>\n",
       "      <td>0.640000</td>\n",
       "      <td>0.420000</td>\n",
       "      <td>2.600000</td>\n",
       "      <td>0.090000</td>\n",
       "      <td>21.000000</td>\n",
       "      <td>62.000000</td>\n",
       "      <td>0.997835</td>\n",
       "      <td>3.400000</td>\n",
       "      <td>0.730000</td>\n",
       "      <td>11.100000</td>\n",
       "      <td>6.000000</td>\n",
       "    </tr>\n",
       "    <tr>\n",
       "      <th>max</th>\n",
       "      <td>15.900000</td>\n",
       "      <td>1.580000</td>\n",
       "      <td>1.000000</td>\n",
       "      <td>15.500000</td>\n",
       "      <td>0.611000</td>\n",
       "      <td>72.000000</td>\n",
       "      <td>289.000000</td>\n",
       "      <td>1.003690</td>\n",
       "      <td>4.010000</td>\n",
       "      <td>2.000000</td>\n",
       "      <td>14.900000</td>\n",
       "      <td>8.000000</td>\n",
       "    </tr>\n",
       "  </tbody>\n",
       "</table>\n",
       "</div>"
      ],
      "text/plain": [
       "       fixed acidity  volatile acidity  citric acid  residual sugar  \\\n",
       "count    1599.000000       1599.000000  1599.000000     1599.000000   \n",
       "mean        8.319637          0.527821     0.270976        2.538806   \n",
       "std         1.741096          0.179060     0.194801        1.409928   \n",
       "min         4.600000          0.120000     0.000000        0.900000   \n",
       "25%         7.100000          0.390000     0.090000        1.900000   \n",
       "50%         7.900000          0.520000     0.260000        2.200000   \n",
       "75%         9.200000          0.640000     0.420000        2.600000   \n",
       "max        15.900000          1.580000     1.000000       15.500000   \n",
       "\n",
       "         chlorides  free sulfur dioxide  total sulfur dioxide      density  \\\n",
       "count  1599.000000          1599.000000           1599.000000  1599.000000   \n",
       "mean      0.087467            15.874922             46.467792     0.996747   \n",
       "std       0.047065            10.460157             32.895324     0.001887   \n",
       "min       0.012000             1.000000              6.000000     0.990070   \n",
       "25%       0.070000             7.000000             22.000000     0.995600   \n",
       "50%       0.079000            14.000000             38.000000     0.996750   \n",
       "75%       0.090000            21.000000             62.000000     0.997835   \n",
       "max       0.611000            72.000000            289.000000     1.003690   \n",
       "\n",
       "                pH    sulphates      alcohol      quality  \n",
       "count  1599.000000  1599.000000  1599.000000  1599.000000  \n",
       "mean      3.311113     0.658149    10.422983     5.636023  \n",
       "std       0.154386     0.169507     1.065668     0.807569  \n",
       "min       2.740000     0.330000     8.400000     3.000000  \n",
       "25%       3.210000     0.550000     9.500000     5.000000  \n",
       "50%       3.310000     0.620000    10.200000     6.000000  \n",
       "75%       3.400000     0.730000    11.100000     6.000000  \n",
       "max       4.010000     2.000000    14.900000     8.000000  "
      ]
     },
     "execution_count": 7,
     "metadata": {},
     "output_type": "execute_result"
    }
   ],
   "source": [
    "wine_dataset.describe()"
   ]
  },
  {
   "cell_type": "code",
   "execution_count": 8,
   "id": "668ea764",
   "metadata": {
    "execution": {
     "iopub.execute_input": "2022-07-13T16:26:05.271713Z",
     "iopub.status.busy": "2022-07-13T16:26:05.270831Z",
     "iopub.status.idle": "2022-07-13T16:26:05.578398Z",
     "shell.execute_reply": "2022-07-13T16:26:05.577020Z"
    },
    "papermill": {
     "duration": 0.318475,
     "end_time": "2022-07-13T16:26:05.581024",
     "exception": false,
     "start_time": "2022-07-13T16:26:05.262549",
     "status": "completed"
    },
    "tags": []
   },
   "outputs": [
    {
     "data": {
      "image/png": "[encoded data removed]",
      "text/plain": [
       "<Figure size 360x360 with 1 Axes>"
      ]
     },
     "metadata": {
      "needs_background": "light"
     },
     "output_type": "display_data"
    }
   ],
   "source": [
    "sns.catplot(x='quality', data=wine_dataset, kind='count');"
   ]
  },
  {
   "cell_type": "code",
   "execution_count": 9,
   "id": "ce959090",
   "metadata": {
    "execution": {
     "iopub.execute_input": "2022-07-13T16:26:05.597308Z",
     "iopub.status.busy": "2022-07-13T16:26:05.596860Z",
     "iopub.status.idle": "2022-07-13T16:26:05.987871Z",
     "shell.execute_reply": "2022-07-13T16:26:05.986988Z"
    },
    "papermill": {
     "duration": 0.401709,
     "end_time": "2022-07-13T16:26:05.989956",
     "exception": false,
     "start_time": "2022-07-13T16:26:05.588247",
     "status": "completed"
    },
    "tags": []
   },
   "outputs": [
    {
     "data": {
      "image/png": "[encoded data removed]",
      "text/plain": [
       "<Figure size 360x360 with 1 Axes>"
      ]
     },
     "metadata": {
      "needs_background": "light"
     },
     "output_type": "display_data"
    }
   ],
   "source": [
    "plot = plt.figure(figsize=(5,5))\n",
    "sns.barplot(x='quality', y = 'volatile acidity', data = wine_dataset);"
   ]
  },
  {
   "cell_type": "code",
   "execution_count": 10,
   "id": "36c7798b",
   "metadata": {
    "execution": {
     "iopub.execute_input": "2022-07-13T16:26:06.007808Z",
     "iopub.status.busy": "2022-07-13T16:26:06.006729Z",
     "iopub.status.idle": "2022-07-13T16:26:06.387100Z",
     "shell.execute_reply": "2022-07-13T16:26:06.385954Z"
    },
    "papermill": {
     "duration": 0.392119,
     "end_time": "2022-07-13T16:26:06.389429",
     "exception": false,
     "start_time": "2022-07-13T16:26:05.997310",
     "status": "completed"
    },
    "tags": []
   },
   "outputs": [
    {
     "data": {
      "image/png": "[encoded data removed]",
      "text/plain": [
       "<Figure size 360x360 with 1 Axes>"
      ]
     },
     "metadata": {
      "needs_background": "light"
     },
     "output_type": "display_data"
    }
   ],
   "source": [
    "plot = plt.figure(figsize=(5,5))\n",
    "sns.barplot(x='quality', y = 'citric acid', data = wine_dataset);"
   ]
  },
  {
   "cell_type": "code",
   "execution_count": 11,
   "id": "1f2f02e8",
   "metadata": {
    "execution": {
     "iopub.execute_input": "2022-07-13T16:26:06.407624Z",
     "iopub.status.busy": "2022-07-13T16:26:06.406660Z",
     "iopub.status.idle": "2022-07-13T16:26:06.413584Z",
     "shell.execute_reply": "2022-07-13T16:26:06.412787Z"
    },
    "papermill": {
     "duration": 0.018135,
     "end_time": "2022-07-13T16:26:06.415746",
     "exception": false,
     "start_time": "2022-07-13T16:26:06.397611",
     "status": "completed"
    },
    "tags": []
   },
   "outputs": [],
   "source": [
    "correlation = wine_dataset.corr()"
   ]
  },
  {
   "cell_type": "code",
   "execution_count": 12,
   "id": "1b368f20",
   "metadata": {
    "execution": {
     "iopub.execute_input": "2022-07-13T16:26:06.432980Z",
     "iopub.status.busy": "2022-07-13T16:26:06.431616Z",
     "iopub.status.idle": "2022-07-13T16:26:07.319330Z",
     "shell.execute_reply": "2022-07-13T16:26:07.318325Z"
    },
    "papermill": {
     "duration": 0.898289,
     "end_time": "2022-07-13T16:26:07.321419",
     "exception": false,
     "start_time": "2022-07-13T16:26:06.423130",
     "status": "completed"
    },
    "tags": []
   },
   "outputs": [
    {
     "data": {
      "text/plain": [
       "<AxesSubplot:>"
      ]
     },
     "execution_count": 12,
     "metadata": {},
     "output_type": "execute_result"
    },
    {
     "data": {
      "image/png": "[encoded data removed]",
      "text/plain": [
       "<Figure size 720x720 with 2 Axes>"
      ]
     },
     "metadata": {
      "needs_background": "light"
     },
     "output_type": "display_data"
    }
   ],
   "source": [
    "plt.figure(figsize=(10,10))\n",
    "sns.heatmap(correlation,cbar=True,square=True,fmt='.1f',annot=True,annot_kws={'size':8},cmap='Oranges')"
   ]
  },
  {
   "cell_type": "code",
   "execution_count": 13,
   "id": "fc9fc736",
   "metadata": {
    "execution": {
     "iopub.execute_input": "2022-07-13T16:26:07.340406Z",
     "iopub.status.busy": "2022-07-13T16:26:07.339891Z",
     "iopub.status.idle": "2022-07-13T16:26:07.348901Z",
     "shell.execute_reply": "2022-07-13T16:26:07.347801Z"
    },
    "papermill": {
     "duration": 0.021135,
     "end_time": "2022-07-13T16:26:07.351023",
     "exception": false,
     "start_time": "2022-07-13T16:26:07.329888",
     "status": "completed"
    },
    "tags": []
   },
   "outputs": [],
   "source": [
    "X=wine_dataset.drop('quality',axis=1)\n",
    "Y= wine_dataset['quality'].apply(lambda y_value: 1 if y_value>=7 else 0)"
   ]
  },
  {
   "cell_type": "code",
   "execution_count": 14,
   "id": "2ce6a276",
   "metadata": {
    "execution": {
     "iopub.execute_input": "2022-07-13T16:26:07.370414Z",
     "iopub.status.busy": "2022-07-13T16:26:07.369939Z",
     "iopub.status.idle": "2022-07-13T16:26:07.379154Z",
     "shell.execute_reply": "2022-07-13T16:26:07.377646Z"
    },
    "papermill": {
     "duration": 0.021752,
     "end_time": "2022-07-13T16:26:07.381332",
     "exception": false,
     "start_time": "2022-07-13T16:26:07.359580",
     "status": "completed"
    },
    "tags": []
   },
   "outputs": [],
   "source": [
    "X_train, X_test, Y_train, Y_test = train_test_split(X, Y, test_size=0.2, random_state=3)"
   ]
  },
  {
   "cell_type": "code",
   "execution_count": 15,
   "id": "8991c9f7",
   "metadata": {
    "execution": {
     "iopub.execute_input": "2022-07-13T16:26:07.400832Z",
     "iopub.status.busy": "2022-07-13T16:26:07.400393Z",
     "iopub.status.idle": "2022-07-13T16:26:07.405310Z",
     "shell.execute_reply": "2022-07-13T16:26:07.404441Z"
    },
    "papermill": {
     "duration": 0.017431,
     "end_time": "2022-07-13T16:26:07.407252",
     "exception": false,
     "start_time": "2022-07-13T16:26:07.389821",
     "status": "completed"
    },
    "tags": []
   },
   "outputs": [],
   "source": [
    "model = RandomForestClassifier()"
   ]
  },
  {
   "cell_type": "code",
   "execution_count": 16,
   "id": "a8c22c9a",
   "metadata": {
    "execution": {
     "iopub.execute_input": "2022-07-13T16:26:07.426891Z",
     "iopub.status.busy": "2022-07-13T16:26:07.426438Z",
     "iopub.status.idle": "2022-07-13T16:26:07.737383Z",
     "shell.execute_reply": "2022-07-13T16:26:07.736204Z"
    },
    "papermill": {
     "duration": 0.324243,
     "end_time": "2022-07-13T16:26:07.739865",
     "exception": false,
     "start_time": "2022-07-13T16:26:07.415622",
     "status": "completed"
    },
    "tags": []
   },
   "outputs": [
    {
     "data": {
      "text/plain": [
       "RandomForestClassifier()"
      ]
     },
     "execution_count": 16,
     "metadata": {},
     "output_type": "execute_result"
    }
   ],
   "source": [
    "model.fit(X_train,Y_train)"
   ]
  },
  {
   "cell_type": "code",
   "execution_count": 17,
   "id": "dc7bd6bf",
   "metadata": {
    "execution": {
     "iopub.execute_input": "2022-07-13T16:26:07.760365Z",
     "iopub.status.busy": "2022-07-13T16:26:07.759903Z",
     "iopub.status.idle": "2022-07-13T16:26:07.786907Z",
     "shell.execute_reply": "2022-07-13T16:26:07.785563Z"
    },
    "papermill": {
     "duration": 0.039855,
     "end_time": "2022-07-13T16:26:07.789028",
     "exception": false,
     "start_time": "2022-07-13T16:26:07.749173",
     "status": "completed"
    },
    "tags": []
   },
   "outputs": [
    {
     "name": "stdout",
     "output_type": "stream",
     "text": [
      "Accuracy :  0.93125\n"
     ]
    }
   ],
   "source": [
    "# accuracy on test data\n",
    "X_test_prediction = model.predict(X_test)\n",
    "test_data_accuracy = accuracy_score(X_test_prediction, Y_test)\n",
    "print('Accuracy : ', test_data_accuracy)"
   ]
  },
  {
   "cell_type": "code",
   "execution_count": 18,
   "id": "2948ceea",
   "metadata": {
    "execution": {
     "iopub.execute_input": "2022-07-13T16:26:07.808579Z",
     "iopub.status.busy": "2022-07-13T16:26:07.807854Z",
     "iopub.status.idle": "2022-07-13T16:26:07.830984Z",
     "shell.execute_reply": "2022-07-13T16:26:07.829492Z"
    },
    "papermill": {
     "duration": 0.036229,
     "end_time": "2022-07-13T16:26:07.833830",
     "exception": false,
     "start_time": "2022-07-13T16:26:07.797601",
     "status": "completed"
    },
    "tags": []
   },
   "outputs": [
    {
     "name": "stdout",
     "output_type": "stream",
     "text": [
      "[0]\n",
      "Bad Quality Wine\n"
     ]
    },
    {
     "name": "stderr",
     "output_type": "stream",
     "text": [
      "/opt/conda/lib/python3.7/site-packages/sklearn/base.py:451: UserWarning: X does not have valid feature names, but RandomForestClassifier was fitted with feature names\n",
      "  \"X does not have valid feature names, but\"\n"
     ]
    }
   ],
   "source": [
    "input_data = (7.5,0.5,0.36,6.1,0.071,17.0,102.0,0.9978,3.35,0.8,10.5)\n",
    "\n",
    "input_data_as_numpy_array = np.asarray(input_data)\n",
    "\n",
    "input_data_reshaped = input_data_as_numpy_array.reshape(1,-1)\n",
    "\n",
    "prediction = model.predict(input_data_reshaped)\n",
    "print(prediction)\n",
    "\n",
    "if (prediction[0]==1):\n",
    "  print('Good Quality Wine')\n",
    "else:\n",
    "  print('Bad Quality Wine')"
   ]
  },
  {
   "cell_type": "code",
   "execution_count": null,
   "id": "5d70c1ad",
   "metadata": {
    "papermill": {
     "duration": 0.00853,
     "end_time": "2022-07-13T16:26:07.851075",
     "exception": false,
     "start_time": "2022-07-13T16:26:07.842545",
     "status": "completed"
    },
    "tags": []
   },
   "outputs": [],
   "source": []
  }
 ],
 "metadata": {
  "kernelspec": {
   "display_name": "Python 3",
   "language": "python",
   "name": "python3"
  },
  "language_info": {
   "codemirror_mode": {
    "name": "ipython",
    "version": 3
   },
   "file_extension": ".py",
   "mimetype": "text/x-python",
   "name": "python",
   "nbconvert_exporter": "python",
   "pygments_lexer": "ipython3",
   "version": "3.7.12"
  },
  "papermill": {
   "default_parameters": {},
   "duration": 16.321358,
   "end_time": "2022-07-13T16:26:08.884655",
   "environment_variables": {},
   "exception": null,
   "input_path": "__notebook__.ipynb",
   "output_path": "__notebook__.ipynb",
   "parameters": {},
   "start_time": "2022-07-13T16:25:52.563297",
   "version": "2.3.4"
  }
 },
 "nbformat": 4,
 "nbformat_minor": 5
}
